{
 "cells": [
  {
   "cell_type": "markdown",
   "metadata": {
    "colab_type": "text",
    "id": "view-in-github"
   },
   "source": [
    "<a href=\"https://colab.research.google.com/github/Eric-Canas/QReader/blob/main/example.ipynb\" target=\"_parent\"><img src=\"https://colab.research.google.com/assets/colab-badge.svg\" alt=\"Open In Colab\"/></a>"
   ]
  },
  {
   "cell_type": "code",
   "execution_count": null,
   "metadata": {
    "colab": {
     "base_uri": "https://localhost:8080/"
    },
    "id": "yitDYbGAJYLq",
    "outputId": "a15144df-3bba-4982-9b89-6b664a653c4f"
   },
   "outputs": [
    {
     "name": "stdout",
     "output_type": "stream",
     "text": [
      "\u001b[33mWarning:\u001b[0m zbar 0.23.93_2 is already installed and up-to-date.\n",
      "To reinstall 0.23.93_2, run:\n",
      "  brew reinstall zbar\n",
      "Obtaining file:///Users/ursinho/src/qrcodes-fos/QReader\n",
      "  Installing build dependencies ... \u001b[?25ldone\n",
      "\u001b[?25h  Checking if build backend supports build_editable ... \u001b[?25ldone\n",
      "\u001b[?25h  Getting requirements to build editable ... \u001b[?25ldone\n",
      "\u001b[?25h  Preparing editable metadata (pyproject.toml) ... \u001b[?25ldone\n",
      "\u001b[?25hCollecting qrdet@ git+https://github.com/viaPhoton/qrdet.git@v2.5.1#egg=qrdet (from qreader==3.12.2)\n",
      "  Cloning https://github.com/viaPhoton/qrdet.git (to revision v2.5.1) to /private/var/folders/26/sh_3q_0550x9m3428nn1d_700000gn/T/pip-install-ki3ebvxs/qrdet_693a69e64bb447f0b97088543d7f7a29\n",
      "  Running command git clone --filter=blob:none --quiet https://github.com/viaPhoton/qrdet.git /private/var/folders/26/sh_3q_0550x9m3428nn1d_700000gn/T/pip-install-ki3ebvxs/qrdet_693a69e64bb447f0b97088543d7f7a29\n",
      "  Resolved https://github.com/viaPhoton/qrdet.git to commit 4c532d96601043d29a94257b17036e291201b9e7\n",
      "  Installing build dependencies ... \u001b[?25ldone\n",
      "\u001b[?25h  Getting requirements to build wheel ... \u001b[?25ldone\n",
      "\u001b[?25h  Preparing metadata (pyproject.toml) ... \u001b[?25ldone\n",
      "\u001b[?25hRequirement already satisfied: numpy in ./venv/lib/python3.11/site-packages (from qreader==3.12.2) (1.26.4)\n",
      "Requirement already satisfied: opencv-python in ./venv/lib/python3.11/site-packages (from qreader==3.12.2) (4.10.0.84)\n",
      "Requirement already satisfied: pyzbar in ./venv/lib/python3.11/site-packages (from qreader==3.12.2) (0.1.9)\n",
      "Requirement already satisfied: ultralytics==8.3.33 in ./venv/lib/python3.11/site-packages (from qrdet@ git+https://github.com/viaPhoton/qrdet.git@v2.5.1#egg=qrdet->qreader==3.12.2) (8.3.33)\n",
      "Requirement already satisfied: onnx in ./venv/lib/python3.11/site-packages (from qrdet@ git+https://github.com/viaPhoton/qrdet.git@v2.5.1#egg=qrdet->qreader==3.12.2) (1.17.0)\n",
      "Requirement already satisfied: onnxruntime in ./venv/lib/python3.11/site-packages (from qrdet@ git+https://github.com/viaPhoton/qrdet.git@v2.5.1#egg=qrdet->qreader==3.12.2) (1.20.0)\n",
      "Requirement already satisfied: quadrilateral-fitter in ./venv/lib/python3.11/site-packages (from qrdet@ git+https://github.com/viaPhoton/qrdet.git@v2.5.1#egg=qrdet->qreader==3.12.2) (1.12)\n",
      "Requirement already satisfied: tqdm in ./venv/lib/python3.11/site-packages (from qrdet@ git+https://github.com/viaPhoton/qrdet.git@v2.5.1#egg=qrdet->qreader==3.12.2) (4.67.0)\n",
      "Requirement already satisfied: matplotlib>=3.3.0 in ./venv/lib/python3.11/site-packages (from ultralytics==8.3.33->qrdet@ git+https://github.com/viaPhoton/qrdet.git@v2.5.1#egg=qrdet->qreader==3.12.2) (3.9.2)\n",
      "Requirement already satisfied: pillow>=7.1.2 in ./venv/lib/python3.11/site-packages (from ultralytics==8.3.33->qrdet@ git+https://github.com/viaPhoton/qrdet.git@v2.5.1#egg=qrdet->qreader==3.12.2) (11.0.0)\n",
      "Requirement already satisfied: pyyaml>=5.3.1 in ./venv/lib/python3.11/site-packages (from ultralytics==8.3.33->qrdet@ git+https://github.com/viaPhoton/qrdet.git@v2.5.1#egg=qrdet->qreader==3.12.2) (6.0.2)\n",
      "Requirement already satisfied: requests>=2.23.0 in ./venv/lib/python3.11/site-packages (from ultralytics==8.3.33->qrdet@ git+https://github.com/viaPhoton/qrdet.git@v2.5.1#egg=qrdet->qreader==3.12.2) (2.32.3)\n",
      "Requirement already satisfied: scipy>=1.4.1 in ./venv/lib/python3.11/site-packages (from ultralytics==8.3.33->qrdet@ git+https://github.com/viaPhoton/qrdet.git@v2.5.1#egg=qrdet->qreader==3.12.2) (1.14.1)\n",
      "Requirement already satisfied: torch>=1.8.0 in ./venv/lib/python3.11/site-packages (from ultralytics==8.3.33->qrdet@ git+https://github.com/viaPhoton/qrdet.git@v2.5.1#egg=qrdet->qreader==3.12.2) (2.5.1)\n",
      "Requirement already satisfied: torchvision>=0.9.0 in ./venv/lib/python3.11/site-packages (from ultralytics==8.3.33->qrdet@ git+https://github.com/viaPhoton/qrdet.git@v2.5.1#egg=qrdet->qreader==3.12.2) (0.20.1)\n",
      "Requirement already satisfied: psutil in ./venv/lib/python3.11/site-packages (from ultralytics==8.3.33->qrdet@ git+https://github.com/viaPhoton/qrdet.git@v2.5.1#egg=qrdet->qreader==3.12.2) (6.1.0)\n",
      "Requirement already satisfied: py-cpuinfo in ./venv/lib/python3.11/site-packages (from ultralytics==8.3.33->qrdet@ git+https://github.com/viaPhoton/qrdet.git@v2.5.1#egg=qrdet->qreader==3.12.2) (9.0.0)\n",
      "Requirement already satisfied: pandas>=1.1.4 in ./venv/lib/python3.11/site-packages (from ultralytics==8.3.33->qrdet@ git+https://github.com/viaPhoton/qrdet.git@v2.5.1#egg=qrdet->qreader==3.12.2) (2.2.3)\n",
      "Requirement already satisfied: seaborn>=0.11.0 in ./venv/lib/python3.11/site-packages (from ultralytics==8.3.33->qrdet@ git+https://github.com/viaPhoton/qrdet.git@v2.5.1#egg=qrdet->qreader==3.12.2) (0.13.2)\n",
      "Requirement already satisfied: ultralytics-thop>=2.0.0 in ./venv/lib/python3.11/site-packages (from ultralytics==8.3.33->qrdet@ git+https://github.com/viaPhoton/qrdet.git@v2.5.1#egg=qrdet->qreader==3.12.2) (2.0.12)\n",
      "Requirement already satisfied: protobuf>=3.20.2 in ./venv/lib/python3.11/site-packages (from onnx->qrdet@ git+https://github.com/viaPhoton/qrdet.git@v2.5.1#egg=qrdet->qreader==3.12.2) (5.28.3)\n",
      "Requirement already satisfied: coloredlogs in ./venv/lib/python3.11/site-packages (from onnxruntime->qrdet@ git+https://github.com/viaPhoton/qrdet.git@v2.5.1#egg=qrdet->qreader==3.12.2) (15.0.1)\n",
      "Requirement already satisfied: flatbuffers in ./venv/lib/python3.11/site-packages (from onnxruntime->qrdet@ git+https://github.com/viaPhoton/qrdet.git@v2.5.1#egg=qrdet->qreader==3.12.2) (24.3.25)\n",
      "Requirement already satisfied: packaging in ./venv/lib/python3.11/site-packages (from onnxruntime->qrdet@ git+https://github.com/viaPhoton/qrdet.git@v2.5.1#egg=qrdet->qreader==3.12.2) (24.2)\n",
      "Requirement already satisfied: sympy in ./venv/lib/python3.11/site-packages (from onnxruntime->qrdet@ git+https://github.com/viaPhoton/qrdet.git@v2.5.1#egg=qrdet->qreader==3.12.2) (1.13.1)\n",
      "Requirement already satisfied: shapely in ./venv/lib/python3.11/site-packages (from quadrilateral-fitter->qrdet@ git+https://github.com/viaPhoton/qrdet.git@v2.5.1#egg=qrdet->qreader==3.12.2) (2.0.6)\n",
      "Requirement already satisfied: contourpy>=1.0.1 in ./venv/lib/python3.11/site-packages (from matplotlib>=3.3.0->ultralytics==8.3.33->qrdet@ git+https://github.com/viaPhoton/qrdet.git@v2.5.1#egg=qrdet->qreader==3.12.2) (1.3.1)\n",
      "Requirement already satisfied: cycler>=0.10 in ./venv/lib/python3.11/site-packages (from matplotlib>=3.3.0->ultralytics==8.3.33->qrdet@ git+https://github.com/viaPhoton/qrdet.git@v2.5.1#egg=qrdet->qreader==3.12.2) (0.12.1)\n",
      "Requirement already satisfied: fonttools>=4.22.0 in ./venv/lib/python3.11/site-packages (from matplotlib>=3.3.0->ultralytics==8.3.33->qrdet@ git+https://github.com/viaPhoton/qrdet.git@v2.5.1#egg=qrdet->qreader==3.12.2) (4.55.0)\n",
      "Requirement already satisfied: kiwisolver>=1.3.1 in ./venv/lib/python3.11/site-packages (from matplotlib>=3.3.0->ultralytics==8.3.33->qrdet@ git+https://github.com/viaPhoton/qrdet.git@v2.5.1#egg=qrdet->qreader==3.12.2) (1.4.7)\n",
      "Requirement already satisfied: pyparsing>=2.3.1 in ./venv/lib/python3.11/site-packages (from matplotlib>=3.3.0->ultralytics==8.3.33->qrdet@ git+https://github.com/viaPhoton/qrdet.git@v2.5.1#egg=qrdet->qreader==3.12.2) (3.2.0)\n",
      "Requirement already satisfied: python-dateutil>=2.7 in ./venv/lib/python3.11/site-packages (from matplotlib>=3.3.0->ultralytics==8.3.33->qrdet@ git+https://github.com/viaPhoton/qrdet.git@v2.5.1#egg=qrdet->qreader==3.12.2) (2.9.0.post0)\n",
      "Requirement already satisfied: pytz>=2020.1 in ./venv/lib/python3.11/site-packages (from pandas>=1.1.4->ultralytics==8.3.33->qrdet@ git+https://github.com/viaPhoton/qrdet.git@v2.5.1#egg=qrdet->qreader==3.12.2) (2024.2)\n",
      "Requirement already satisfied: tzdata>=2022.7 in ./venv/lib/python3.11/site-packages (from pandas>=1.1.4->ultralytics==8.3.33->qrdet@ git+https://github.com/viaPhoton/qrdet.git@v2.5.1#egg=qrdet->qreader==3.12.2) (2024.2)\n",
      "Requirement already satisfied: charset-normalizer<4,>=2 in ./venv/lib/python3.11/site-packages (from requests>=2.23.0->ultralytics==8.3.33->qrdet@ git+https://github.com/viaPhoton/qrdet.git@v2.5.1#egg=qrdet->qreader==3.12.2) (3.4.0)\n",
      "Requirement already satisfied: idna<4,>=2.5 in ./venv/lib/python3.11/site-packages (from requests>=2.23.0->ultralytics==8.3.33->qrdet@ git+https://github.com/viaPhoton/qrdet.git@v2.5.1#egg=qrdet->qreader==3.12.2) (3.10)\n",
      "Requirement already satisfied: urllib3<3,>=1.21.1 in ./venv/lib/python3.11/site-packages (from requests>=2.23.0->ultralytics==8.3.33->qrdet@ git+https://github.com/viaPhoton/qrdet.git@v2.5.1#egg=qrdet->qreader==3.12.2) (2.2.3)\n",
      "Requirement already satisfied: certifi>=2017.4.17 in ./venv/lib/python3.11/site-packages (from requests>=2.23.0->ultralytics==8.3.33->qrdet@ git+https://github.com/viaPhoton/qrdet.git@v2.5.1#egg=qrdet->qreader==3.12.2) (2024.8.30)\n",
      "Requirement already satisfied: filelock in ./venv/lib/python3.11/site-packages (from torch>=1.8.0->ultralytics==8.3.33->qrdet@ git+https://github.com/viaPhoton/qrdet.git@v2.5.1#egg=qrdet->qreader==3.12.2) (3.16.1)\n",
      "Requirement already satisfied: typing-extensions>=4.8.0 in ./venv/lib/python3.11/site-packages (from torch>=1.8.0->ultralytics==8.3.33->qrdet@ git+https://github.com/viaPhoton/qrdet.git@v2.5.1#egg=qrdet->qreader==3.12.2) (4.12.2)\n",
      "Requirement already satisfied: networkx in ./venv/lib/python3.11/site-packages (from torch>=1.8.0->ultralytics==8.3.33->qrdet@ git+https://github.com/viaPhoton/qrdet.git@v2.5.1#egg=qrdet->qreader==3.12.2) (3.4.2)\n",
      "Requirement already satisfied: jinja2 in ./venv/lib/python3.11/site-packages (from torch>=1.8.0->ultralytics==8.3.33->qrdet@ git+https://github.com/viaPhoton/qrdet.git@v2.5.1#egg=qrdet->qreader==3.12.2) (3.1.4)\n",
      "Requirement already satisfied: fsspec in ./venv/lib/python3.11/site-packages (from torch>=1.8.0->ultralytics==8.3.33->qrdet@ git+https://github.com/viaPhoton/qrdet.git@v2.5.1#egg=qrdet->qreader==3.12.2) (2024.10.0)\n",
      "Requirement already satisfied: mpmath<1.4,>=1.1.0 in ./venv/lib/python3.11/site-packages (from sympy->onnxruntime->qrdet@ git+https://github.com/viaPhoton/qrdet.git@v2.5.1#egg=qrdet->qreader==3.12.2) (1.3.0)\n",
      "Requirement already satisfied: humanfriendly>=9.1 in ./venv/lib/python3.11/site-packages (from coloredlogs->onnxruntime->qrdet@ git+https://github.com/viaPhoton/qrdet.git@v2.5.1#egg=qrdet->qreader==3.12.2) (10.0)\n",
      "Requirement already satisfied: six>=1.5 in ./venv/lib/python3.11/site-packages (from python-dateutil>=2.7->matplotlib>=3.3.0->ultralytics==8.3.33->qrdet@ git+https://github.com/viaPhoton/qrdet.git@v2.5.1#egg=qrdet->qreader==3.12.2) (1.16.0)\n",
      "Requirement already satisfied: MarkupSafe>=2.0 in ./venv/lib/python3.11/site-packages (from jinja2->torch>=1.8.0->ultralytics==8.3.33->qrdet@ git+https://github.com/viaPhoton/qrdet.git@v2.5.1#egg=qrdet->qreader==3.12.2) (3.0.2)\n",
      "Building wheels for collected packages: qreader\n",
      "  Building editable for qreader (pyproject.toml) ... \u001b[?25ldone\n",
      "\u001b[?25h  Created wheel for qreader: filename=qreader-3.12.2-0.editable-py3-none-any.whl size=8330 sha256=4a7c2631012314ca88cd7d7efbe9b8551dbf7cd19a9d917c09914751e234b844\n",
      "  Stored in directory: /private/var/folders/26/sh_3q_0550x9m3428nn1d_700000gn/T/pip-ephem-wheel-cache-8c4ztbgo/wheels/56/0c/0a/cb37e18ba9a2566b7c833ead49aa2a30c1983e483881e4600c\n",
      "Successfully built qreader\n",
      "Installing collected packages: qreader\n",
      "  Attempting uninstall: qreader\n",
      "    Found existing installation: qreader 3.12.2\n",
      "    Not uninstalling qreader at /Users/ursinho/src/qrcodes-fos/QReader, outside environment /Users/ursinho/src/qrcodes-fos/QReader/venv\n",
      "    Can't uninstall 'qreader'. No files were found to uninstall.\n",
      "Successfully installed qreader-3.12.2\n",
      "\n",
      "\u001b[1m[\u001b[0m\u001b[34;49mnotice\u001b[0m\u001b[1;39;49m]\u001b[0m\u001b[39;49m A new release of pip is available: \u001b[0m\u001b[31;49m24.0\u001b[0m\u001b[39;49m -> \u001b[0m\u001b[32;49m24.3.1\u001b[0m\n",
      "\u001b[1m[\u001b[0m\u001b[34;49mnotice\u001b[0m\u001b[1;39;49m]\u001b[0m\u001b[39;49m To update, run: \u001b[0m\u001b[32;49mpip install --upgrade pip\u001b[0m\n",
      "Note: you may need to restart the kernel to use updated packages.\n",
      "Requirement already satisfied: pillow in ./venv/lib/python3.11/site-packages (11.0.0)\n",
      "\n",
      "\u001b[1m[\u001b[0m\u001b[34;49mnotice\u001b[0m\u001b[1;39;49m]\u001b[0m\u001b[39;49m A new release of pip is available: \u001b[0m\u001b[31;49m24.0\u001b[0m\u001b[39;49m -> \u001b[0m\u001b[32;49m24.3.1\u001b[0m\n",
      "\u001b[1m[\u001b[0m\u001b[34;49mnotice\u001b[0m\u001b[1;39;49m]\u001b[0m\u001b[39;49m To update, run: \u001b[0m\u001b[32;49mpip install --upgrade pip\u001b[0m\n",
      "Note: you may need to restart the kernel to use updated packages.\n"
     ]
    }
   ],
   "source": [
    "!brew install zbar\n",
    "%pip install pillow"
   ]
  },
  {
   "cell_type": "code",
   "execution_count": 30,
   "metadata": {},
   "outputs": [
    {
     "name": "stdout",
     "output_type": "stream",
     "text": [
      "Obtaining file:///Users/ursinho/src/qrcodes-fos/QReader\n",
      "  Installing build dependencies ... \u001b[?25ldone\n",
      "\u001b[?25h  Checking if build backend supports build_editable ... \u001b[?25ldone\n",
      "\u001b[?25h  Getting requirements to build editable ... \u001b[?25ldone\n",
      "\u001b[?25h  Preparing editable metadata (pyproject.toml) ... \u001b[?25ldone\n",
      "\u001b[?25hCollecting qrdet@ git+https://github.com/viaPhoton/qrdet.git@v2.5.1#egg=qrdet (from qreader==3.12.2)\n",
      "  Cloning https://github.com/viaPhoton/qrdet.git (to revision v2.5.1) to /private/var/folders/26/sh_3q_0550x9m3428nn1d_700000gn/T/pip-install-z648uxtb/qrdet_0814bdee1a394881a907f957d3ac5098\n",
      "  Running command git clone --filter=blob:none --quiet https://github.com/viaPhoton/qrdet.git /private/var/folders/26/sh_3q_0550x9m3428nn1d_700000gn/T/pip-install-z648uxtb/qrdet_0814bdee1a394881a907f957d3ac5098\n",
      "  Resolved https://github.com/viaPhoton/qrdet.git to commit 4c532d96601043d29a94257b17036e291201b9e7\n",
      "  Installing build dependencies ... \u001b[?25ldone\n",
      "\u001b[?25h  Getting requirements to build wheel ... \u001b[?25ldone\n",
      "\u001b[?25h  Preparing metadata (pyproject.toml) ... \u001b[?25ldone\n",
      "\u001b[?25hRequirement already satisfied: numpy in ./venv/lib/python3.11/site-packages (from qreader==3.12.2) (1.26.4)\n",
      "Requirement already satisfied: opencv-python in ./venv/lib/python3.11/site-packages (from qreader==3.12.2) (4.10.0.84)\n",
      "Requirement already satisfied: pyzbar in ./venv/lib/python3.11/site-packages (from qreader==3.12.2) (0.1.9)\n",
      "Requirement already satisfied: ultralytics==8.3.33 in ./venv/lib/python3.11/site-packages (from qrdet@ git+https://github.com/viaPhoton/qrdet.git@v2.5.1#egg=qrdet->qreader==3.12.2) (8.3.33)\n",
      "Requirement already satisfied: onnx in ./venv/lib/python3.11/site-packages (from qrdet@ git+https://github.com/viaPhoton/qrdet.git@v2.5.1#egg=qrdet->qreader==3.12.2) (1.17.0)\n",
      "Requirement already satisfied: onnxruntime in ./venv/lib/python3.11/site-packages (from qrdet@ git+https://github.com/viaPhoton/qrdet.git@v2.5.1#egg=qrdet->qreader==3.12.2) (1.20.0)\n",
      "Requirement already satisfied: quadrilateral-fitter in ./venv/lib/python3.11/site-packages (from qrdet@ git+https://github.com/viaPhoton/qrdet.git@v2.5.1#egg=qrdet->qreader==3.12.2) (1.12)\n",
      "Requirement already satisfied: tqdm in ./venv/lib/python3.11/site-packages (from qrdet@ git+https://github.com/viaPhoton/qrdet.git@v2.5.1#egg=qrdet->qreader==3.12.2) (4.67.0)\n",
      "Requirement already satisfied: matplotlib>=3.3.0 in ./venv/lib/python3.11/site-packages (from ultralytics==8.3.33->qrdet@ git+https://github.com/viaPhoton/qrdet.git@v2.5.1#egg=qrdet->qreader==3.12.2) (3.9.2)\n",
      "Requirement already satisfied: pillow>=7.1.2 in ./venv/lib/python3.11/site-packages (from ultralytics==8.3.33->qrdet@ git+https://github.com/viaPhoton/qrdet.git@v2.5.1#egg=qrdet->qreader==3.12.2) (11.0.0)\n",
      "Requirement already satisfied: pyyaml>=5.3.1 in ./venv/lib/python3.11/site-packages (from ultralytics==8.3.33->qrdet@ git+https://github.com/viaPhoton/qrdet.git@v2.5.1#egg=qrdet->qreader==3.12.2) (6.0.2)\n",
      "Requirement already satisfied: requests>=2.23.0 in ./venv/lib/python3.11/site-packages (from ultralytics==8.3.33->qrdet@ git+https://github.com/viaPhoton/qrdet.git@v2.5.1#egg=qrdet->qreader==3.12.2) (2.32.3)\n",
      "Requirement already satisfied: scipy>=1.4.1 in ./venv/lib/python3.11/site-packages (from ultralytics==8.3.33->qrdet@ git+https://github.com/viaPhoton/qrdet.git@v2.5.1#egg=qrdet->qreader==3.12.2) (1.14.1)\n",
      "Requirement already satisfied: torch>=1.8.0 in ./venv/lib/python3.11/site-packages (from ultralytics==8.3.33->qrdet@ git+https://github.com/viaPhoton/qrdet.git@v2.5.1#egg=qrdet->qreader==3.12.2) (2.5.1)\n",
      "Requirement already satisfied: torchvision>=0.9.0 in ./venv/lib/python3.11/site-packages (from ultralytics==8.3.33->qrdet@ git+https://github.com/viaPhoton/qrdet.git@v2.5.1#egg=qrdet->qreader==3.12.2) (0.20.1)\n",
      "Requirement already satisfied: psutil in ./venv/lib/python3.11/site-packages (from ultralytics==8.3.33->qrdet@ git+https://github.com/viaPhoton/qrdet.git@v2.5.1#egg=qrdet->qreader==3.12.2) (6.1.0)\n",
      "Requirement already satisfied: py-cpuinfo in ./venv/lib/python3.11/site-packages (from ultralytics==8.3.33->qrdet@ git+https://github.com/viaPhoton/qrdet.git@v2.5.1#egg=qrdet->qreader==3.12.2) (9.0.0)\n",
      "Requirement already satisfied: pandas>=1.1.4 in ./venv/lib/python3.11/site-packages (from ultralytics==8.3.33->qrdet@ git+https://github.com/viaPhoton/qrdet.git@v2.5.1#egg=qrdet->qreader==3.12.2) (2.2.3)\n",
      "Requirement already satisfied: seaborn>=0.11.0 in ./venv/lib/python3.11/site-packages (from ultralytics==8.3.33->qrdet@ git+https://github.com/viaPhoton/qrdet.git@v2.5.1#egg=qrdet->qreader==3.12.2) (0.13.2)\n",
      "Requirement already satisfied: ultralytics-thop>=2.0.0 in ./venv/lib/python3.11/site-packages (from ultralytics==8.3.33->qrdet@ git+https://github.com/viaPhoton/qrdet.git@v2.5.1#egg=qrdet->qreader==3.12.2) (2.0.12)\n",
      "Requirement already satisfied: protobuf>=3.20.2 in ./venv/lib/python3.11/site-packages (from onnx->qrdet@ git+https://github.com/viaPhoton/qrdet.git@v2.5.1#egg=qrdet->qreader==3.12.2) (5.28.3)\n",
      "Requirement already satisfied: coloredlogs in ./venv/lib/python3.11/site-packages (from onnxruntime->qrdet@ git+https://github.com/viaPhoton/qrdet.git@v2.5.1#egg=qrdet->qreader==3.12.2) (15.0.1)\n",
      "Requirement already satisfied: flatbuffers in ./venv/lib/python3.11/site-packages (from onnxruntime->qrdet@ git+https://github.com/viaPhoton/qrdet.git@v2.5.1#egg=qrdet->qreader==3.12.2) (24.3.25)\n",
      "Requirement already satisfied: packaging in ./venv/lib/python3.11/site-packages (from onnxruntime->qrdet@ git+https://github.com/viaPhoton/qrdet.git@v2.5.1#egg=qrdet->qreader==3.12.2) (24.2)\n",
      "Requirement already satisfied: sympy in ./venv/lib/python3.11/site-packages (from onnxruntime->qrdet@ git+https://github.com/viaPhoton/qrdet.git@v2.5.1#egg=qrdet->qreader==3.12.2) (1.13.1)\n",
      "Requirement already satisfied: shapely in ./venv/lib/python3.11/site-packages (from quadrilateral-fitter->qrdet@ git+https://github.com/viaPhoton/qrdet.git@v2.5.1#egg=qrdet->qreader==3.12.2) (2.0.6)\n",
      "Requirement already satisfied: contourpy>=1.0.1 in ./venv/lib/python3.11/site-packages (from matplotlib>=3.3.0->ultralytics==8.3.33->qrdet@ git+https://github.com/viaPhoton/qrdet.git@v2.5.1#egg=qrdet->qreader==3.12.2) (1.3.1)\n",
      "Requirement already satisfied: cycler>=0.10 in ./venv/lib/python3.11/site-packages (from matplotlib>=3.3.0->ultralytics==8.3.33->qrdet@ git+https://github.com/viaPhoton/qrdet.git@v2.5.1#egg=qrdet->qreader==3.12.2) (0.12.1)\n",
      "Requirement already satisfied: fonttools>=4.22.0 in ./venv/lib/python3.11/site-packages (from matplotlib>=3.3.0->ultralytics==8.3.33->qrdet@ git+https://github.com/viaPhoton/qrdet.git@v2.5.1#egg=qrdet->qreader==3.12.2) (4.55.0)\n",
      "Requirement already satisfied: kiwisolver>=1.3.1 in ./venv/lib/python3.11/site-packages (from matplotlib>=3.3.0->ultralytics==8.3.33->qrdet@ git+https://github.com/viaPhoton/qrdet.git@v2.5.1#egg=qrdet->qreader==3.12.2) (1.4.7)\n",
      "Requirement already satisfied: pyparsing>=2.3.1 in ./venv/lib/python3.11/site-packages (from matplotlib>=3.3.0->ultralytics==8.3.33->qrdet@ git+https://github.com/viaPhoton/qrdet.git@v2.5.1#egg=qrdet->qreader==3.12.2) (3.2.0)\n",
      "Requirement already satisfied: python-dateutil>=2.7 in ./venv/lib/python3.11/site-packages (from matplotlib>=3.3.0->ultralytics==8.3.33->qrdet@ git+https://github.com/viaPhoton/qrdet.git@v2.5.1#egg=qrdet->qreader==3.12.2) (2.9.0.post0)\n",
      "Requirement already satisfied: pytz>=2020.1 in ./venv/lib/python3.11/site-packages (from pandas>=1.1.4->ultralytics==8.3.33->qrdet@ git+https://github.com/viaPhoton/qrdet.git@v2.5.1#egg=qrdet->qreader==3.12.2) (2024.2)\n",
      "Requirement already satisfied: tzdata>=2022.7 in ./venv/lib/python3.11/site-packages (from pandas>=1.1.4->ultralytics==8.3.33->qrdet@ git+https://github.com/viaPhoton/qrdet.git@v2.5.1#egg=qrdet->qreader==3.12.2) (2024.2)\n",
      "Requirement already satisfied: charset-normalizer<4,>=2 in ./venv/lib/python3.11/site-packages (from requests>=2.23.0->ultralytics==8.3.33->qrdet@ git+https://github.com/viaPhoton/qrdet.git@v2.5.1#egg=qrdet->qreader==3.12.2) (3.4.0)\n",
      "Requirement already satisfied: idna<4,>=2.5 in ./venv/lib/python3.11/site-packages (from requests>=2.23.0->ultralytics==8.3.33->qrdet@ git+https://github.com/viaPhoton/qrdet.git@v2.5.1#egg=qrdet->qreader==3.12.2) (3.10)\n",
      "Requirement already satisfied: urllib3<3,>=1.21.1 in ./venv/lib/python3.11/site-packages (from requests>=2.23.0->ultralytics==8.3.33->qrdet@ git+https://github.com/viaPhoton/qrdet.git@v2.5.1#egg=qrdet->qreader==3.12.2) (2.2.3)\n",
      "Requirement already satisfied: certifi>=2017.4.17 in ./venv/lib/python3.11/site-packages (from requests>=2.23.0->ultralytics==8.3.33->qrdet@ git+https://github.com/viaPhoton/qrdet.git@v2.5.1#egg=qrdet->qreader==3.12.2) (2024.8.30)\n",
      "Requirement already satisfied: filelock in ./venv/lib/python3.11/site-packages (from torch>=1.8.0->ultralytics==8.3.33->qrdet@ git+https://github.com/viaPhoton/qrdet.git@v2.5.1#egg=qrdet->qreader==3.12.2) (3.16.1)\n",
      "Requirement already satisfied: typing-extensions>=4.8.0 in ./venv/lib/python3.11/site-packages (from torch>=1.8.0->ultralytics==8.3.33->qrdet@ git+https://github.com/viaPhoton/qrdet.git@v2.5.1#egg=qrdet->qreader==3.12.2) (4.12.2)\n",
      "Requirement already satisfied: networkx in ./venv/lib/python3.11/site-packages (from torch>=1.8.0->ultralytics==8.3.33->qrdet@ git+https://github.com/viaPhoton/qrdet.git@v2.5.1#egg=qrdet->qreader==3.12.2) (3.4.2)\n",
      "Requirement already satisfied: jinja2 in ./venv/lib/python3.11/site-packages (from torch>=1.8.0->ultralytics==8.3.33->qrdet@ git+https://github.com/viaPhoton/qrdet.git@v2.5.1#egg=qrdet->qreader==3.12.2) (3.1.4)\n",
      "Requirement already satisfied: fsspec in ./venv/lib/python3.11/site-packages (from torch>=1.8.0->ultralytics==8.3.33->qrdet@ git+https://github.com/viaPhoton/qrdet.git@v2.5.1#egg=qrdet->qreader==3.12.2) (2024.10.0)\n",
      "Requirement already satisfied: mpmath<1.4,>=1.1.0 in ./venv/lib/python3.11/site-packages (from sympy->onnxruntime->qrdet@ git+https://github.com/viaPhoton/qrdet.git@v2.5.1#egg=qrdet->qreader==3.12.2) (1.3.0)\n",
      "Requirement already satisfied: humanfriendly>=9.1 in ./venv/lib/python3.11/site-packages (from coloredlogs->onnxruntime->qrdet@ git+https://github.com/viaPhoton/qrdet.git@v2.5.1#egg=qrdet->qreader==3.12.2) (10.0)\n",
      "Requirement already satisfied: six>=1.5 in ./venv/lib/python3.11/site-packages (from python-dateutil>=2.7->matplotlib>=3.3.0->ultralytics==8.3.33->qrdet@ git+https://github.com/viaPhoton/qrdet.git@v2.5.1#egg=qrdet->qreader==3.12.2) (1.16.0)\n",
      "Requirement already satisfied: MarkupSafe>=2.0 in ./venv/lib/python3.11/site-packages (from jinja2->torch>=1.8.0->ultralytics==8.3.33->qrdet@ git+https://github.com/viaPhoton/qrdet.git@v2.5.1#egg=qrdet->qreader==3.12.2) (3.0.2)\n",
      "Building wheels for collected packages: qreader\n",
      "  Building editable for qreader (pyproject.toml) ... \u001b[?25ldone\n",
      "\u001b[?25h  Created wheel for qreader: filename=qreader-3.12.2-0.editable-py3-none-any.whl size=8330 sha256=95addf6643cab9cdd1b005d3e44512f95d19e396800886b4a7c7bf73c8558c7c\n",
      "  Stored in directory: /private/var/folders/26/sh_3q_0550x9m3428nn1d_700000gn/T/pip-ephem-wheel-cache-1y9d605l/wheels/56/0c/0a/cb37e18ba9a2566b7c833ead49aa2a30c1983e483881e4600c\n",
      "Successfully built qreader\n",
      "Installing collected packages: qreader\n",
      "  Attempting uninstall: qreader\n",
      "    Found existing installation: qreader 3.12.2\n",
      "    Not uninstalling qreader at /Users/ursinho/src/qrcodes-fos/QReader, outside environment /Users/ursinho/src/qrcodes-fos/QReader/venv\n",
      "    Can't uninstall 'qreader'. No files were found to uninstall.\n",
      "Successfully installed qreader-3.12.2\n",
      "\n",
      "\u001b[1m[\u001b[0m\u001b[34;49mnotice\u001b[0m\u001b[1;39;49m]\u001b[0m\u001b[39;49m A new release of pip is available: \u001b[0m\u001b[31;49m24.0\u001b[0m\u001b[39;49m -> \u001b[0m\u001b[32;49m24.3.1\u001b[0m\n",
      "\u001b[1m[\u001b[0m\u001b[34;49mnotice\u001b[0m\u001b[1;39;49m]\u001b[0m\u001b[39;49m To update, run: \u001b[0m\u001b[32;49mpip install --upgrade pip\u001b[0m\n",
      "Note: you may need to restart the kernel to use updated packages.\n"
     ]
    }
   ],
   "source": [
    "%pip install -e ."
   ]
  },
  {
   "cell_type": "code",
   "execution_count": 31,
   "metadata": {},
   "outputs": [
    {
     "name": "stdout",
     "output_type": "stream",
     "text": [
      "/opt/homebrew/opt/zbar/lib:/opt/homebrew/opt/zbar/lib:/opt/homebrew/opt/zbar/lib:/opt/homebrew/opt/zbar/lib:/opt/homebrew/opt/zbar/lib:\n"
     ]
    }
   ],
   "source": [
    "import os\n",
    "\n",
    "os.environ['DYLD_LIBRARY_PATH'] = '/opt/homebrew/opt/zbar/lib:' + os.environ.get('DYLD_LIBRARY_PATH', '')\n",
    "print(os.environ['DYLD_LIBRARY_PATH'])"
   ]
  },
  {
   "cell_type": "code",
   "execution_count": 32,
   "metadata": {
    "id": "eJ_wJbJMIoB1"
   },
   "outputs": [],
   "source": [
    "import cv2\n",
    "from qreader import QReader\n",
    "from pprint import pp\n",
    "\n",
    "## QRRead + Decode\n",
    "detector = QReader(model_input='/Users/ursinho/src/qrcodes-fos/qrdet/resources/eits-n-1.0-fp16.onnx')"
   ]
  },
  {
   "cell_type": "code",
   "execution_count": null,
   "metadata": {
    "colab": {
     "base_uri": "https://localhost:8080/"
    },
    "id": "FcTPjLhOIo0_",
    "outputId": "d0e99514-bb67-4f49-bff8-c365653d9cdd"
   },
   "outputs": [
    {
     "name": "stdout",
     "output_type": "stream",
     "text": [
      "Loading /Users/ursinho/src/qrcodes-fos/qrdet/resources/eits-n-1.0-fp16.onnx for ONNX Runtime inference...\n",
      "Preferring ONNX Runtime CoreMLExecutionProvider\n"
     ]
    },
    {
     "name": "stderr",
     "output_type": "stream",
     "text": [
      "\u001b[0;93m2024-11-19 15:53:41.369951 [W:onnxruntime:, coreml_execution_provider.cc:115 GetCapability] CoreMLExecutionProvider::GetCapability, number of partitions supported by CoreML: 11 number of nodes in the graph: 268 number of nodes supported by CoreML: 254\u001b[m\n"
     ]
    },
    {
     "ename": "AttributeError",
     "evalue": "'dict' object has no attribute 'cls'",
     "output_type": "error",
     "traceback": [
      "\u001b[0;31m---------------------------------------------------------------------------\u001b[0m",
      "\u001b[0;31mAttributeError\u001b[0m                            Traceback (most recent call last)",
      "Cell \u001b[0;32mIn[33], line 9\u001b[0m\n\u001b[1;32m      6\u001b[0m p \u001b[38;5;241m=\u001b[39m cv2\u001b[38;5;241m.\u001b[39mcvtColor(p, cv2\u001b[38;5;241m.\u001b[39mCOLOR_BGR2RGB)\n\u001b[1;32m      8\u001b[0m \u001b[38;5;66;03m# Detect and decode the QRs within the image\u001b[39;00m\n\u001b[0;32m----> 9\u001b[0m QRs \u001b[38;5;241m=\u001b[39m \u001b[43mdetector\u001b[49m\u001b[38;5;241;43m.\u001b[39;49m\u001b[43mdetect_and_decode\u001b[49m\u001b[43m(\u001b[49m\u001b[43mimage\u001b[49m\u001b[38;5;241;43m=\u001b[39;49m\u001b[43mp\u001b[49m\u001b[43m,\u001b[49m\u001b[43m \u001b[49m\u001b[43mreturn_detections\u001b[49m\u001b[38;5;241;43m=\u001b[39;49m\u001b[38;5;28;43;01mTrue\u001b[39;49;00m\u001b[43m)\u001b[49m\n\u001b[1;32m     11\u001b[0m \u001b[38;5;66;03m# Print the results\u001b[39;00m\n\u001b[1;32m     12\u001b[0m \u001b[38;5;28;01mfor\u001b[39;00m QR \u001b[38;5;129;01min\u001b[39;00m QRs:\n",
      "File \u001b[0;32m~/src/qrcodes-fos/QReader/qreader.py:132\u001b[0m, in \u001b[0;36mQReader.detect_and_decode\u001b[0;34m(self, image, return_detections, is_bgr)\u001b[0m\n\u001b[1;32m    115\u001b[0m \u001b[38;5;250m\u001b[39m\u001b[38;5;124;03m\"\"\"\u001b[39;00m\n\u001b[1;32m    116\u001b[0m \u001b[38;5;124;03mThis method will decode the **QR** codes in the given image and return the decoded strings\u001b[39;00m\n\u001b[1;32m    117\u001b[0m \u001b[38;5;124;03m(or None, if any of them was detected but not decoded).\u001b[39;00m\n\u001b[0;32m   (...)\u001b[0m\n\u001b[1;32m    129\u001b[0m \n\u001b[1;32m    130\u001b[0m \u001b[38;5;124;03m\"\"\"\u001b[39;00m\n\u001b[1;32m    131\u001b[0m detections \u001b[38;5;241m=\u001b[39m \u001b[38;5;28mself\u001b[39m\u001b[38;5;241m.\u001b[39mdetect(image\u001b[38;5;241m=\u001b[39mimage, is_bgr\u001b[38;5;241m=\u001b[39mis_bgr)\n\u001b[0;32m--> 132\u001b[0m decoded_qrs \u001b[38;5;241m=\u001b[39m \u001b[38;5;28;43mtuple\u001b[39;49m\u001b[43m(\u001b[49m\u001b[38;5;28;43mself\u001b[39;49m\u001b[38;5;241;43m.\u001b[39;49m\u001b[43mdecode\u001b[49m\u001b[43m(\u001b[49m\u001b[43mimage\u001b[49m\u001b[38;5;241;43m=\u001b[39;49m\u001b[43mimage\u001b[49m\u001b[43m,\u001b[49m\u001b[43m \u001b[49m\u001b[43mdetection_result\u001b[49m\u001b[38;5;241;43m=\u001b[39;49m\u001b[43mdetection\u001b[49m\u001b[43m)\u001b[49m\u001b[43m \u001b[49m\u001b[38;5;28;43;01mfor\u001b[39;49;00m\u001b[43m \u001b[49m\u001b[43mdetection\u001b[49m\u001b[43m \u001b[49m\u001b[38;5;129;43;01min\u001b[39;49;00m\u001b[43m \u001b[49m\u001b[43mdetections\u001b[49m\u001b[43m \u001b[49m\u001b[38;5;28;43;01mif\u001b[39;49;00m\u001b[43m \u001b[49m\u001b[43mdetection\u001b[49m\u001b[38;5;241;43m.\u001b[39;49m\u001b[43mcls\u001b[49m\u001b[43m \u001b[49m\u001b[38;5;241;43m==\u001b[39;49m\u001b[43m \u001b[49m\u001b[38;5;241;43m1\u001b[39;49m\u001b[43m)\u001b[49m\n\u001b[1;32m    135\u001b[0m \u001b[38;5;28;01mif\u001b[39;00m return_detections:\n\u001b[1;32m    136\u001b[0m     \u001b[38;5;28;01mreturn\u001b[39;00m decoded_qrs, detections\n",
      "File \u001b[0;32m~/src/qrcodes-fos/QReader/qreader.py:132\u001b[0m, in \u001b[0;36m<genexpr>\u001b[0;34m(.0)\u001b[0m\n\u001b[1;32m    115\u001b[0m \u001b[38;5;250m\u001b[39m\u001b[38;5;124;03m\"\"\"\u001b[39;00m\n\u001b[1;32m    116\u001b[0m \u001b[38;5;124;03mThis method will decode the **QR** codes in the given image and return the decoded strings\u001b[39;00m\n\u001b[1;32m    117\u001b[0m \u001b[38;5;124;03m(or None, if any of them was detected but not decoded).\u001b[39;00m\n\u001b[0;32m   (...)\u001b[0m\n\u001b[1;32m    129\u001b[0m \n\u001b[1;32m    130\u001b[0m \u001b[38;5;124;03m\"\"\"\u001b[39;00m\n\u001b[1;32m    131\u001b[0m detections \u001b[38;5;241m=\u001b[39m \u001b[38;5;28mself\u001b[39m\u001b[38;5;241m.\u001b[39mdetect(image\u001b[38;5;241m=\u001b[39mimage, is_bgr\u001b[38;5;241m=\u001b[39mis_bgr)\n\u001b[0;32m--> 132\u001b[0m decoded_qrs \u001b[38;5;241m=\u001b[39m \u001b[38;5;28mtuple\u001b[39m(\u001b[38;5;28mself\u001b[39m\u001b[38;5;241m.\u001b[39mdecode(image\u001b[38;5;241m=\u001b[39mimage, detection_result\u001b[38;5;241m=\u001b[39mdetection) \u001b[38;5;28;01mfor\u001b[39;00m detection \u001b[38;5;129;01min\u001b[39;00m detections \u001b[38;5;28;01mif\u001b[39;00m \u001b[43mdetection\u001b[49m\u001b[38;5;241;43m.\u001b[39;49m\u001b[43mcls\u001b[49m \u001b[38;5;241m==\u001b[39m \u001b[38;5;241m1\u001b[39m)\n\u001b[1;32m    135\u001b[0m \u001b[38;5;28;01mif\u001b[39;00m return_detections:\n\u001b[1;32m    136\u001b[0m     \u001b[38;5;28;01mreturn\u001b[39;00m decoded_qrs, detections\n",
      "\u001b[0;31mAttributeError\u001b[0m: 'dict' object has no attribute 'cls'"
     ]
    }
   ],
   "source": [
    "\n",
    "# Load the image using cv2\n",
    "c = cv2.imread('tests/d-c001.jpg')\n",
    "c = cv2.cvtColor(c, cv2.COLOR_BGR2RGB)\n",
    "\n",
    "p = cv2.imread('tests/p.jpg')\n",
    "p = cv2.cvtColor(p, cv2.COLOR_BGR2RGB)\n",
    "\n",
    "# Detect and decode the QRs within the image\n",
    "QRs = detector.detect_and_decode(image=c, return_detections=True)\n",
    "\n",
    "# Print the results\n",
    "for QR in QRs:\n",
    "    pp(QR)\n"
   ]
  }
 ],
 "metadata": {
  "colab": {
   "authorship_tag": "ABX9TyOQFWWpgnvp1YvpIEgEqC0j",
   "include_colab_link": true,
   "provenance": []
  },
  "kernelspec": {
   "display_name": "venv",
   "language": "python",
   "name": "python3"
  },
  "language_info": {
   "codemirror_mode": {
    "name": "ipython",
    "version": 3
   },
   "file_extension": ".py",
   "mimetype": "text/x-python",
   "name": "python",
   "nbconvert_exporter": "python",
   "pygments_lexer": "ipython3",
   "version": "3.11.9"
  }
 },
 "nbformat": 4,
 "nbformat_minor": 0
}
